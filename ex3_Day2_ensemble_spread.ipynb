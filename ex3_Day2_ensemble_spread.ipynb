{
 "cells": [
  {
   "attachments": {},
   "cell_type": "markdown",
   "id": "01acf3cd-3bda-486f-ba6e-58941c10e373",
   "metadata": {},
   "source": [
    "# DAY 2: Models - Exercise 3.\n",
    "A major limitation of the ensemble mean is that it does not contain information on the prediction uncertaintiy <br>\n",
    "In this excersice we will be: <br>\n",
    "\n",
    "1. **Understanding the ensemble spread as an indicator of forecast uncertainty**.<br>\n",
    "\n",
    "The data for this excersise is below - this is the same data as Ex-2 <br>\n",
    "A forecasted amount of rainfall is given for each year and the months OND. "
   ]
  },
  {
   "cell_type": "markdown",
   "id": "c63e9784-8b73-40ef-b100-2f7a6c05dae4",
   "metadata": {},
   "source": [
    "**Remember to change the name to your location of intrest.  Example: da = location('Kenya_Hindcast')**"
   ]
  },
  {
   "cell_type": "code",
   "execution_count": 1,
   "id": "d8e2a34d-309d-4d9f-b9c3-901ed4712e5b",
   "metadata": {},
   "outputs": [],
   "source": [
    "import numpy as np\n",
    "import xarray as xr\n",
    "from Data import location\n",
    "da = location('Kenya_Hindcast')\n",
    "Obs_Rain = location(\"Kenya_Obs_Chirps\")"
   ]
  },
  {
   "cell_type": "markdown",
   "id": "c2b7ffbc-65f1-4259-8dae-dca9806002c2",
   "metadata": {},
   "source": [
    "## Minimums and Maximums\n",
    "The spread is the range of a dataset<br>\n",
    "We will need to determine the minimum and maximum forecasted rainfall for each year. <br>\n",
    "This will show us the **Spread** in that years members predictions. <br>\n",
    "The point of this is so we can see if the forecast members are in general agreement with themselves. <br>\n",
    "If the spread covers the entire range of possibilities, the forecast may offer little certainty. <br>\n",
    "A smaller spread **could** suggest more certainty in the forecast.<br>\n",
    "<br>\n",
    "We are going to use the same principles in python that we used to calculate the Mean for each year in Ex-2.<br>\n",
    "Fill in the \"()\" after append with the correct words out of Min and Max respecively. \n"
   ]
  },
  {
   "cell_type": "markdown",
   "id": "4c6abd8b-a9de-4d0f-9bf6-a465680cd0d7",
   "metadata": {},
   "source": [
    "<details>\n",
    "  <summary>Click for solution!</summary>\n",
    "    Yearly_Forecast_Min.append(Min) <br>\n",
    "    Yearly_Forecast_Max.append(Max)\n",
    "</details>"
   ]
  },
  {
   "cell_type": "code",
   "execution_count": 2,
   "id": "f0deb799-6813-42d2-a8d4-d5b0eab4bd25",
   "metadata": {},
   "outputs": [
    {
     "name": "stdout",
     "output_type": "stream",
     "text": [
      "Yearly_Forecast_Minimum for 1993-2016: [1.64, 3.01, 1.59, 0.9, 2.84, 1.45, 1.44, 1.25, 1.15, 1.45, 1.46, 1.59, 1.52, 2.31, 1.51, 1.42, 1.79, 1.54, 2.2, 1.7, 1.31, 1.83, 2.98, 1.23]\n",
      "Yearly_Forecast_Maximum for 1993-2016: [3.28, 5.85, 3.3, 3.26, 6.38, 2.93, 3.18, 3.25, 3.45, 3.96, 3.58, 3.94, 2.71, 4.85, 3.56, 3.37, 3.62, 3.45, 4.92, 4.73, 2.79, 3.53, 5.91, 3.05]\n"
     ]
    }
   ],
   "source": [
    "#First we create an empty array to store the data in\n",
    "Yearly_Forecast_Min = []\n",
    "Yearly_Forecast_Max = []\n",
    "\n",
    "#Then we need to select for each year all the values accosiated with it\n",
    "for year in da.year.values:\n",
    "    data = da.sel(year=year)\n",
    "    \n",
    "    #now we can use the function min and max to return the yearly min and max across the members \n",
    "    Min = data.min().item()\n",
    "    Max = data.max().item()\n",
    "    \n",
    "    #Now we can store them into the list\n",
    "    Yearly_Forecast_Min.append(Min)\n",
    "    Yearly_Forecast_Max.append(Max)\n",
    "\n",
    "    #Yearly_Forecast_Min.append( ) -edit\n",
    "    #Yearly_Forecast_Max.append( ) -edit\n",
    "\n",
    "\n",
    "print(\"Yearly_Forecast_Minimum for 1993-2016:\",Yearly_Forecast_Min)\n",
    "print(\"Yearly_Forecast_Maximum for 1993-2016:\",Yearly_Forecast_Max)"
   ]
  },
  {
   "cell_type": "markdown",
   "id": "b3154c96-e574-4edc-93e9-89a525296008",
   "metadata": {},
   "source": [
    "## Quantiles\n",
    "Like before we need to seperate where the data gets outside a certain bound. <br>\n",
    "Before we used Terciles <br>\n",
    "This time we will use quantiles <br>\n",
    "Quantiles seperate data at 25% and 75%. <br>\n",
    "The point of this is that we can see what the majority of the forecast is predicting. <br>\n",
    "This may seem simillar to spread - but spread could be aggrivated by one anomlous ensemble member predicting far outside the normal. <br>\n",
    "Important to look as is wether the obeserved rainfall is inside the spread or inside the quantiles.<br>\n",
    "If the quantiles have a large diffrence - the spread is larger too. <br>\n",
    "But a smaller quantile diffrence may not indicate a smaller spread. <br>\n",
    "A large diffrence in the qunatiles will provide little certainty for the forecasted rainfall as it may cover a large amount of possibilites. <br>\n",
    "<br>\n",
    "We can calculate quantiles for the whole dataset. <br>\n",
    "The first one (upper quantile) has been done for you. <br>\n",
    "**Copy this style and change the black space to caculate the 25% lower quantile.** <br>\n",
    "The cell will have no output when run, to check your work you must run the cell below the next\n"
   ]
  },
  {
   "cell_type": "markdown",
   "id": "a89f80aa-9285-421b-a5c0-eea11a2bacde",
   "metadata": {},
   "source": [
    "<details>\n",
    "  <summary>Click for solution!</summary>\n",
    "    RF_lower_quantile = np.percentile(da, 25.00) <br>\n",
    "</details>"
   ]
  },
  {
   "cell_type": "code",
   "execution_count": 3,
   "id": "e046f28a-c737-48b4-b946-793a6a5aa7c7",
   "metadata": {},
   "outputs": [],
   "source": [
    "RF_upper_quantile = np.percentile(da, 75.00)\n",
    "RF_lower_quantile = np.percentile(da, )"
   ]
  },
  {
   "cell_type": "code",
   "execution_count": 4,
   "id": "616dd27b-4a7a-403f-9885-09e472f3026e",
   "metadata": {},
   "outputs": [
    {
     "name": "stdout",
     "output_type": "stream",
     "text": [
      "This is the upper quantile for all the data: 3.2325\n",
      "This is the lower quantile for all thed data: 2.04\n"
     ]
    }
   ],
   "source": [
    "print(\"This is the upper quantile for all the data:\", RF_upper_quantile)\n",
    "print(\"This is the lower quantile for all thed data:\", RF_lower_quantile)"
   ]
  },
  {
   "cell_type": "markdown",
   "id": "aad9f6ca-fec6-45cb-a2a8-3f7fff0f399a",
   "metadata": {},
   "source": [
    "With this principle we must now find the quantile values for each year instead of the whole dataset. <br>\n",
    "Because there are multiple predictions for each year, this will tell us the general range of the forecast for that year. <br>\n",
    "Just like we found the min and max for each year<br>\n",
    "<br>\n",
    "Using the quantiles excersice fill in the empty () like we did in the Min, Max excersice. "
   ]
  },
  {
   "cell_type": "markdown",
   "id": "2844d3a9-d698-4747-86a5-54dcade98c9d",
   "metadata": {},
   "source": [
    "<details>\n",
    "  <summary>Click for solution!</summary>\n",
    "    Yearly_Forecast_UQ.append(RF_upper_quantile)<br>\n",
    "    Yearly_Forecast_LQ.append(RF_lower_quantile) \n",
    "</details>"
   ]
  },
  {
   "cell_type": "code",
   "execution_count": 5,
   "id": "739135ea-fc56-4868-a042-c5699e8b739d",
   "metadata": {},
   "outputs": [
    {
     "name": "stdout",
     "output_type": "stream",
     "text": [
      "Yearly_Forecast_LQ for 1993-2016: [2.02 3.4  2.04 1.54 4.5  1.86 1.72 1.58 1.84 2.46 2.03 2.33 1.68 3.39\n",
      " 2.03 1.6  2.26 1.98 2.84 2.12 1.44 2.29 3.47 1.99]\n",
      "Yearly_Forecast_UQ for 1993-2016: [2.59 4.95 2.67 1.93 5.24 2.29 2.43 2.61 2.7  3.13 2.95 3.05 2.49 4.29\n",
      " 2.93 2.35 2.99 2.64 3.52 3.34 2.19 2.97 4.32 2.6 ]\n"
     ]
    }
   ],
   "source": [
    "#First we create an empty array to store the data in\n",
    "Yearly_Forecast_LQ = []\n",
    "Yearly_Forecast_UQ = []\n",
    "\n",
    "#Then we need to select for each year all the values accosiated with it\n",
    "for year in da.year.values:\n",
    "    data = da.sel(year=year)\n",
    "    \n",
    "    #now we can use the functions as above to return the yearly quantiles\n",
    "    RF_lower_quantile = np.percentile(data, 25.00, method = 'closest_observation')\n",
    "    RF_upper_quantile = np.percentile(data, 75.00, method = 'closest_observation')\n",
    "    \n",
    "    #Now we can store them into the list\n",
    "    Yearly_Forecast_UQ.append() #Edit Here\n",
    "    Yearly_Forecast_LQ.append() #Edit Here\n",
    "\n",
    "#Finally we round the values in the list for easy readability \n",
    "Yearly_Forecast_LQ = np.round(Yearly_Forecast_LQ,3)\n",
    "Yearly_Forecast_UQ = np.round(Yearly_Forecast_UQ,2)\n",
    "print(\"Yearly_Forecast_LQ for 1993-2016:\",Yearly_Forecast_LQ)\n",
    "print(\"Yearly_Forecast_UQ for 1993-2016:\",Yearly_Forecast_UQ)"
   ]
  },
  {
   "cell_type": "markdown",
   "id": "e4a43911-719b-42b1-8cd7-1179f5bd5470",
   "metadata": {},
   "source": [
    "## Excersice 2\n",
    "We will now need some results from ex-2. <br>\n",
    "This will be used for comparison<br>\n",
    "Specifically, we will be needing the Observed Rainfall and the Ensemble mean for each year.<br>\n",
    "For clarity - this is the data under the subheadings **Observed Rainfall** and **Mean Per Year** in Ex-2 <br>\n",
    "<br>\n",
    "We want this so that we can plot, \n",
    "1. what was forecasted, \n",
    "2. what spread it had,\n",
    "3. what the average range of the forecast was\n",
    "4. and if the observed rainfall matches this."
   ]
  },
  {
   "cell_type": "markdown",
   "id": "7c0a1ce7-de51-4d29-9db8-8db1ae9f7bdd",
   "metadata": {},
   "source": [
    "Below is a repeat of how we got these in Ex-2; The cell below must be run."
   ]
  },
  {
   "cell_type": "code",
   "execution_count": 6,
   "id": "bbdc20a4-99a5-40cc-b6e4-dda2e0c171c0",
   "metadata": {},
   "outputs": [
    {
     "name": "stdout",
     "output_type": "stream",
     "text": [
      "This is the averaged Observed Rainfall for OND each year: [1.68, 3.1, 2.04, 1.54, 5.85, 1.23, 2.17, 2.09, 2.04, 2.91, 1.92, 2.3, 1.1, 4.4, 1.75, 1.8, 2.57, 1.48, 3.68, 2.64, 2.07, 2.15, 3.09, 1.72]\n",
      "This is the averaged Forecasted Rainfall for OND each year: [2.42 4.3  2.4  1.83 4.84 2.14 2.13 2.23 2.28 2.78 2.55 2.74 2.13 3.83\n",
      " 2.47 2.12 2.74 2.33 3.37 3.02 2.   2.67 4.07 2.26]\n"
     ]
    }
   ],
   "source": [
    "Obs_Rain =  Obs_Rain\n",
    "\n",
    "#First we create an empty array to store the data in\n",
    "Yearly_Forecast_mean = []\n",
    "\n",
    "#Then we need to select for each year all the values accosiated with it\n",
    "for year in da.year.values:\n",
    "    data = da.sel(year=year)\n",
    "    #now we can use the function mean to return the yearly mean across the members \n",
    "    mean = data.mean().item()\n",
    "    #Now we can store them into the list\n",
    "    Yearly_Forecast_mean.append(mean)\n",
    "    #print(f\"{year}: {round(mean, 2)}\")\n",
    "\n",
    "#Finally we round the values in the list for easy readability \n",
    "Yearly_Forecast_mean = np.round(Yearly_Forecast_mean,2)\n",
    "\n",
    "\n",
    "print(\"This is the averaged Observed Rainfall for OND each year:\", Obs_Rain)\n",
    "print(\"This is the averaged Forecasted Rainfall for OND each year:\", Yearly_Forecast_mean)\n"
   ]
  },
  {
   "cell_type": "markdown",
   "id": "4bc4f4f9-9294-4a0b-a5e2-a21f909c5c9c",
   "metadata": {},
   "source": [
    "## Plotting\n",
    "We now have:<br>\n",
    "1. The Minumum and Maximum Forecasted Rainfall for each year (Range)\n",
    "2. The Upper and Lower Quantiles for each year. (Spread)\n",
    "3. The Observed Rainfall \n",
    "4. The averaged Forecasted Rainfall <br><br>\n",
    "\n",
    "From this we can plot all that data in one go.<br>\n",
    "With the Range of the quantiles we can see if the forecast has a large varaition in its predidiction. <br>\n",
    "Is it precise or does it get the observed value correct just by covering a large range? <br>\n",
    "With the Spread we can see the same thing but with outliers included. <br>\n",
    "Is one ensemble member very far off but the rest are very close to the obeserved value? Does one ensemble member get it correct but the others are off? <br>\n",
    "The quantiles will tell you if a data point chosen at random it is likely to fall in this range. <br>\n",
    "For a forecast to often be accurate the observed data will need to be within this quantile boundary.\n",
    "<br>\n",
    "<br>\n",
    "**As Time goes on the Averaged Forecast Value should get closer to the observed as forecast methods have improved**<br>\n",
    "**You can also see that an Average value is normally better than having just one members forecast**"
   ]
  },
  {
   "cell_type": "code",
   "execution_count": 7,
   "id": "f2ff8a9f-3905-4ab0-8d43-a8b63601acaf",
   "metadata": {
    "editable": true,
    "slideshow": {
     "slide_type": ""
    },
    "tags": []
   },
   "outputs": [
    {
     "data": {
      "image/png": "[encoded data removed]",
      "text/plain": [
       "<Figure size 1200x600 with 1 Axes>"
      ]
     },
     "metadata": {},
     "output_type": "display_data"
    }
   ],
   "source": [
    "import matplotlib.pyplot as plt\n",
    "import numpy as np\n",
    "\n",
    "\n",
    "years = da.year.values\n",
    "observed = Obs_Rain\n",
    "ensemble_mean = Yearly_Forecast_mean\n",
    "min_forecast = Yearly_Forecast_Min\n",
    "max_forecast = Yearly_Forecast_Max\n",
    "lower_quartile = Yearly_Forecast_LQ\n",
    "upper_quartile = Yearly_Forecast_UQ\n",
    "\n",
    "# Create the plot\n",
    "fig, ax = plt.subplots(figsize=(12, 6))\n",
    "\n",
    "# Plot box plots manually using quartiles and whiskers\n",
    "for i, year in enumerate(years):\n",
    "    # Draw the box (IQR) in grey\n",
    "    ax.add_patch(plt.Rectangle((year - 0.3, lower_quartile[i]), 0.6, upper_quartile[i] - lower_quartile[i],\n",
    "                               edgecolor='black', facecolor='lightgrey'))\n",
    "    # Draw the whiskers (range)\n",
    "    ax.plot([year, year], [min_forecast[i], max_forecast[i]], color='black')\n",
    "    # Draw the ensemble mean as a black diamond (mean value)\n",
    "    ax.plot(year, ensemble_mean[i], marker='D', color='black', label='Ensemble Mean' if i == 0 else \"\")\n",
    "    # Draw the observed value as a black circle (Obs_rain)\n",
    "    ax.plot(year, observed[i], marker='o', color='red', label='Observed' if i == 0 else \"\")\n",
    "\n",
    "\n",
    "ax.set_xticks(years)\n",
    "ax.set_xticklabels(years, rotation=45)\n",
    "ax.set_axisbelow(True)\n",
    "ax.yaxis.grid(color='gray', linestyle='dashed')\n",
    "ax.set_ylabel('mm/day')\n",
    "ax.set_title('Forecast: ensemble mean and spread: ECMWF_OND_St:Aug / Reg. Kenya: 6N-5S; 33-42E')\n",
    "ax.set_xlim([1992.5, 2017.5])\n",
    "#ax.set_ylim([0, 7])\n",
    "ax.legend()\n",
    "\n",
    "plt.tight_layout()\n",
    "plt.show()\n"
   ]
  },
  {
   "cell_type": "markdown",
   "id": "c1ddd861-c12a-47e2-afec-8304bf6afbfc",
   "metadata": {},
   "source": [
    "# You have now finished EX 3; Please refer to the powerpoint on what to do next. \n",
    "## Copy the image of the plot into the powerpoint "
   ]
  },
  {
   "cell_type": "code",
   "execution_count": null,
   "id": "8247e238-8e4d-4146-851d-4a5d77727508",
   "metadata": {},
   "outputs": [],
   "source": []
  }
 ],
 "metadata": {
  "kernelspec": {
   "display_name": "Python 3 (ipykernel)",
   "language": "python",
   "name": "python3"
  },
  "language_info": {
   "codemirror_mode": {
    "name": "ipython",
    "version": 3
   },
   "file_extension": ".py",
   "mimetype": "text/x-python",
   "name": "python",
   "nbconvert_exporter": "python",
   "pygments_lexer": "ipython3",
   "version": "3.12.10"
  }
 },
 "nbformat": 4,
 "nbformat_minor": 5
}
