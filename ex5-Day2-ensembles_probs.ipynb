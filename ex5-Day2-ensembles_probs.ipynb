{
 "cells": [
  {
   "cell_type": "markdown",
   "id": "178c9e68-b5ee-4b58-afd3-9a8dde8b8e20",
   "metadata": {},
   "source": [
    "# DAY 2: Models - Exercise 5.\n",
    "RECAP: <br>\n",
    "1. In Ex-1 We used OBS data to decide wether rainfall was higher or lower than average and assigned it a catagory.\n",
    "2. in Ex-2 we used hindcasts to compare old forecasts to an oberved rainfall of the same period.\n",
    "3. in Ex-3 we looked at how ensembles produce a small range that can when averaged can be better than a single members forecast.\n",
    "4. in Ex-4 we looked at how ensembles can be bias corrected<br>\n",
    "In this excersice we will be: <br>\n",
    "Working out the probabilty that rainfall will fall into a specific catagory based on the forecast.<br>\n",
    "\n",
    "The data for this excersise is below - this is the same data as Ex-2, Ex-3 and Ex-4<br>\n",
    "A forecasted amount of rainfall is given for each year and the months OND. "
   ]
  },
  {
   "cell_type": "code",
   "execution_count": 1,
   "id": "3580cd77-9c86-4f56-801c-85bfd3dcba17",
   "metadata": {},
   "outputs": [],
   "source": [
    "import numpy as np\n",
    "import xarray as xr\n",
    "from Data import location\n",
    "da = location('Kenya_Hindcast')\n",
    "obs = location('Kenya_Obs_Chirps')"
   ]
  },
  {
   "cell_type": "markdown",
   "id": "2681dacd-2435-4943-813f-242356e90db2",
   "metadata": {},
   "source": [
    "## Terciles\n",
    "If we want to look at the probability that rainfall will fall into a specific catagory, we need to divide up the data into catagories. <br>\n",
    "As a reminder, Terciles are when the data is split into 3 equal sections. <br>\n",
    "First we will calculate the terciles for the data.<br>\n",
    "We did this is ex 2. <br>\n",
    "It is repeated here for brevity. <br>\n",
    "Enter da in the correct location - see ex 2 if stuck!"
   ]
  },
  {
   "cell_type": "markdown",
   "id": "56d1651b-a321-472f-bb0f-04033ce8c81b",
   "metadata": {},
   "source": [
    "<details>\n",
    "  <summary>Click for solution!</summary>\n",
    "    RFA_upper = np.percentile(da, 66.66666) <br>\n",
    "    RFA_lower = np.percentile(da, 33.33333)\n",
    "</details>"
   ]
  },
  {
   "cell_type": "code",
   "execution_count": 3,
   "id": "c1913f98-42aa-4f03-8af1-57f359677216",
   "metadata": {},
   "outputs": [
    {
     "name": "stdout",
     "output_type": "stream",
     "text": [
      "The upper tercile determinor is: 2.94\n",
      "This lower tercile determinor is: 2.2066665469999998\n"
     ]
    }
   ],
   "source": [
    "RF_upper = np.percentile( , 66.66666)\n",
    "RF_lower = np.percentile( , 33.33333)\n",
    "\n",
    "print(\"The upper tercile determinor is:\", RFA_upper)\n",
    "print(\"This lower tercile determinor is:\", RFA_lower)"
   ]
  },
  {
   "cell_type": "markdown",
   "id": "7e8f11cd-18fc-4203-9e50-385662174534",
   "metadata": {},
   "source": [
    "We will now assign a number to each forecast member per year.<br>\n",
    "This number represents if it falls below the lower tercile, between or above the upper terciles.<br>\n",
    "<br>\n",
    "We did this in Ex-1.<br>\n",
    "This is a more complex version but the principle is the same.<br>\n",
    "The reason it is more complicated is because we need to select for each year as well as each member. <br>\n",
    "After doing this we will know how many members each year predicted below average raifall, average rainfall and above average rainfall. <br>\n",
    "For one catagaory to have the greatest share, it would need above 33%. <br>\n",
    "Does having a higher percent of members in one catagory provide more confidence?\n"
   ]
  },
  {
   "cell_type": "code",
   "execution_count": 4,
   "id": "0256a280-d8f5-43aa-aa67-53d774e40dbc",
   "metadata": {},
   "outputs": [
    {
     "name": "stdout",
     "output_type": "stream",
     "text": [
      "We have assigned a True value each time the forecast is in a certain catagory\n",
      "\n",
      "For year 1 (1993) there is: 6 counts of members forecasting in the below average catagory\n"
     ]
    }
   ],
   "source": [
    "#First we create an empty array to store the data in\n",
    "Yearly_Forecast_member_below = []\n",
    "Yearly_Forecast_member_above= []\n",
    "Yearly_Forecast_member_between = []\n",
    "\n",
    "\n",
    "#now we select for each member\n",
    "for i in range(da.sizes['year']):\n",
    "         data = da.isel(year=i)\n",
    "         cat_0_mask = data < RFA_lower\n",
    "         Yearly_Forecast_member_below.append(cat_0_mask)\n",
    "         cat_1_mask = data > RFA_upper\n",
    "         Yearly_Forecast_member_above.append(cat_1_mask)\n",
    "         cat_2_mask = (data >= 2.22) & (data <= 2.98)\n",
    "         Yearly_Forecast_member_between.append(cat_2_mask)\n",
    "  \n",
    " #Now we will join this back into one single list\n",
    "Yearly_Forecast_below= xr.concat(Yearly_Forecast_member_below, dim='year')\n",
    "Yearly_Forecast_above= xr.concat(Yearly_Forecast_member_above, dim='year')\n",
    "Yearly_Forecast_between= xr.concat(Yearly_Forecast_member_between, dim='year')\n",
    "\n",
    "Yearly_Counts_Below = Yearly_Forecast_below.sum(dim=\"member\")\n",
    "Yearly_Counts_Above = Yearly_Forecast_above.sum(dim=\"member\")\n",
    "Yearly_Counts_Between = Yearly_Forecast_between.sum(dim=\"member\")\n",
    "\n",
    "print(\"We have assigned a True value each time the forecast is in a certain catagory\")\n",
    "print(\"\")\n",
    "print(\"For year 1 (1993) there is:\", Yearly_Counts_Below.isel(year=0).item(), \"counts of members forecasting in the below average catagory\")\n"
   ]
  },
  {
   "cell_type": "markdown",
   "id": "d3548784-2a34-45ee-ba7b-50d25b2de5d7",
   "metadata": {},
   "source": [
    "<br>\n",
    "Now we have the count of all the true values for each year and each catagory. <br>\n",
    "<br>\n",
    "This is saying that for a specific year, a certain amount of forecast members predicted the rainfall in OND Kenya to fall into below,average or above average amount of rainfall.\n",
    "<br>\n",
    "<br>\n",
    "As if we were working with mutiple services (More than just ECMWF) that have diffrent member sizes -  we must standardise. <br>\n",
    "To standardise this data we must turn it into a percentage.<br>\n",
    "So for each year what percentage of members fell into each catagory.<br>\n",
    "To do this we take the counts, divide by the number of members and multiply by 100. "
   ]
  },
  {
   "cell_type": "code",
   "execution_count": 5,
   "id": "7352569c-aa07-4c07-b9c2-5b2168dc3565",
   "metadata": {},
   "outputs": [
    {
     "name": "stdout",
     "output_type": "stream",
     "text": [
      "These are the percentage of Forecast members that fall into the below average catagory for each year [40.0, 0.0, 26.666666666666668, 80.0, 0.0, 66.66666666666666, 53.333333333333336, 46.666666666666664, 46.666666666666664, 13.333333333333334, 26.666666666666668, 6.666666666666667, 53.333333333333336, 0.0, 53.333333333333336, 66.66666666666666, 20.0, 46.666666666666664, 6.666666666666667, 26.666666666666668, 73.33333333333333, 13.333333333333334, 0.0, 33.33333333333333]\n"
     ]
    }
   ],
   "source": [
    "#Again we create an empty array. \n",
    "Yearly_percentage_Below = []\n",
    "\n",
    "# We select for each individual year\n",
    "for i in range(Yearly_Counts_Below.sizes['year']):\n",
    "    #We do the percentage calulcation\n",
    "    percentage = (Yearly_Counts_Below.isel(year=i).item() / da.member.size) *100\n",
    "    #We store it in the empty list\n",
    "    Yearly_percentage_Below.append(percentage)\n",
    "\n",
    "#We print to see the outcome\n",
    "print(\"These are the percentage of Forecast members that fall into the below average catagory for each year\",Yearly_percentage_Below)\n",
    "    "
   ]
  },
  {
   "cell_type": "markdown",
   "id": "bf4f17ec-7d02-4437-b719-e5890bbbde13",
   "metadata": {},
   "source": [
    "**This has been done for you with the below average catagory**<br>\n",
    "**Use the cells below by filling in the brackets with the correct dataset**<br>\n",
    "<br>\n",
    "**HINT**: For each cell you need to swap out any appearance of the word **__\"Below\"__** to be \"Between\" or \"Above\""
   ]
  },
  {
   "cell_type": "markdown",
   "id": "be6616aa-86ef-443a-9468-54df2f6d436e",
   "metadata": {},
   "source": [
    "<details>\n",
    "  <summary>Click for solution!</summary>\n",
    "    Yearly_percentage_Above = []<br>\n",
    "<br>\n",
    "for i in range(Yearly_Counts_Above.sizes['year']): <br>\n",
    "    #We do the percentage calulcation<br>\n",
    "    percentage = (Yearly_Counts_Above.isel(year=i).item() / da.member.size) *100<br>\n",
    "    #We store it in the empty list<br>\n",
    "    Yearly_percentage_Above.append(percentage)<br>\n",
    "<br>\n",
    "#We print to see the outcome<br>\n",
    "print(\"These are the percentage of Forecast members that fall into the below average catagory for each year\",Yearly_percentage_Above)<br>\n",
    "</details>"
   ]
  },
  {
   "cell_type": "code",
   "execution_count": 6,
   "id": "22a4ed6f-0cdf-4448-9ec3-e40cdd1afa51",
   "metadata": {},
   "outputs": [
    {
     "name": "stdout",
     "output_type": "stream",
     "text": [
      "These are the percentage of Forecast members that fall into the below average catagory for each year [26.666666666666668, 100.0, 13.333333333333334, 6.666666666666667, 93.33333333333333, 0.0, 6.666666666666667, 20.0, 13.333333333333334, 40.0, 33.33333333333333, 33.33333333333333, 0.0, 86.66666666666667, 20.0, 6.666666666666667, 33.33333333333333, 6.666666666666667, 60.0, 53.333333333333336, 0.0, 33.33333333333333, 100.0, 6.666666666666667]\n"
     ]
    }
   ],
   "source": [
    "# -edit this to Above\n",
    "#Again we create an empty array. \n",
    "Yearly_percentage_Below = []\n",
    "\n",
    "# We select for each individual year\n",
    "for i in range(Yearly_Counts_Below.sizes['year']):\n",
    "    #We do the percentage calulcation\n",
    "    percentage = (Yearly_Counts_Below.isel(year=i).item() / da.member.size) *100\n",
    "    #We store it in the empty list\n",
    "    Yearly_percentage_Below.append(percentage)\n",
    "\n",
    "#We print to see the outcome\n",
    "print(\"These are the percentage of Forecast members that fall into the below average catagory for each year\",Yearly_percentage_Above)"
   ]
  },
  {
   "cell_type": "markdown",
   "id": "19ab6529-63a3-478b-9dfa-82583fcb0349",
   "metadata": {},
   "source": [
    "<details>\n",
    "  <summary>Click for solution!</summary>\n",
    "    Yearly_percentage_Between = []<br>\n",
    "<br>\n",
    "for i in range(Yearly_Counts_Between.sizes['year']): <br>\n",
    "    #We do the percentage calulcation<br>\n",
    "    percentage = (Yearly_Counts_Between.isel(year=i).item() / da.member.size) *100<br>\n",
    "    #We store it in the empty list<br>\n",
    "    Yearly_percentage_Between.append(percentage)<br>\n",
    "<br>\n",
    "#We print to see the outcome<br>\n",
    "print(\"These are the percentage of Forecast members that fall into the below average catagory for each year\",Yearly_percentage_Between)<br>\n",
    "</details>"
   ]
  },
  {
   "cell_type": "code",
   "execution_count": 7,
   "id": "37d72612-ce75-4948-b5a2-8b592a0311d2",
   "metadata": {},
   "outputs": [
    {
     "name": "stdout",
     "output_type": "stream",
     "text": [
      "These are the percentage of Forecast members that fall into the below average catagory for each year [33.33333333333333, 0.0, 66.66666666666666, 6.666666666666667, 6.666666666666667, 33.33333333333333, 40.0, 33.33333333333333, 46.666666666666664, 46.666666666666664, 60.0, 60.0, 46.666666666666664, 13.333333333333334, 26.666666666666668, 26.666666666666668, 46.666666666666664, 46.666666666666664, 33.33333333333333, 26.666666666666668, 26.666666666666668, 60.0, 6.666666666666667, 53.333333333333336]\n"
     ]
    }
   ],
   "source": [
    "# -edit this to Between\n",
    "#Again we create an empty array. \n",
    "Yearly_percentage_Below = []\n",
    "\n",
    "# We select for each individual year\n",
    "for i in range(Yearly_Counts_Below.sizes['year']):\n",
    "    #We do the percentage calulcation\n",
    "    percentage = (Yearly_Counts_Below.isel(year=i).item() / da.member.size) *100\n",
    "    #We store it in the empty list\n",
    "    Yearly_percentage_Below.append(percentage)\n",
    "\n",
    "#We print to see the outcome\n",
    "print(\"These are the percentage of Forecast members that fall into the below average catagory for each year\",Yearly_percentage_Between)"
   ]
  },
  {
   "cell_type": "markdown",
   "id": "5c9f37aa-70a8-4c2a-9587-98838d08c549",
   "metadata": {},
   "source": [
    "## Forecast\n",
    "So now we can imagine its a certain year<br>\n",
    "the months OND are coming up<br>\n",
    "and we have the idea that for each self-imposed catagory a certain amount of members predicted for it. <br>\n",
    "<br>\n",
    "So How does this translate to the observed rainfall?\n",
    "<br>\n",
    "First, we must call back in the observed rainfall dataset. "
   ]
  },
  {
   "cell_type": "code",
   "execution_count": 11,
   "id": "c9825516-f461-4858-b410-d3f0cd97ea78",
   "metadata": {},
   "outputs": [],
   "source": [
    "RFA_obs = obs"
   ]
  },
  {
   "cell_type": "markdown",
   "id": "0902952c-6909-45dd-9c9c-6a6ae24d44fe",
   "metadata": {},
   "source": [
    "Now we must work out for each observed value what catagory it falls into. <br>\n",
    "We did this in Ex-1, It is repeated below."
   ]
  },
  {
   "cell_type": "code",
   "execution_count": 12,
   "id": "bad75265-0cfc-427c-99ca-78a38a76adb2",
   "metadata": {
    "editable": true,
    "slideshow": {
     "slide_type": ""
    },
    "tags": []
   },
   "outputs": [
    {
     "name": "stdout",
     "output_type": "stream",
     "text": [
      "This is the Catagories each RNA value falls into: [1. 3. 2. 1. 3. 1. 2. 2. 2. 3. 2. 2. 1. 3. 1. 1. 3. 1. 3. 3. 2. 2. 3. 1.]  a value of 1,2 or 3 is lower, between or above respectively\n"
     ]
    }
   ],
   "source": [
    "#This equation below converts the Array to be able to be used in numpy function \">\"\n",
    "RFA_upper_obs = np.percentile(RFA_obs, 66.66666)\n",
    "RFA_lower_obs = np.percentile(RFA_obs, 33.33333)\n",
    "\n",
    "RFANP = np.array(RFA_obs)\n",
    "\n",
    "# Now we will see if values in the array are greater than RFA_upper (2.48)\n",
    "# If they are they will be turned into a '3'\n",
    "RFANP[RFANP>RFA_upper_obs]= 3\n",
    "\n",
    "#We now repeat this for RFA lower and RFA_middle\n",
    "RFANP[RFANP<RFA_lower_obs]= 1\n",
    "RFANP[(RFANP<RFA_upper_obs)&(RFANP>RFA_lower_obs)]= 2\n",
    "\n",
    "RFA_Catagories = RFANP \n",
    "\n",
    "print(\"This is the Catagories each RNA value falls into:\",RFA_Catagories,\" a value of 1,2 or 3 is lower, between or above respectively\")"
   ]
  },
  {
   "cell_type": "code",
   "execution_count": 13,
   "id": "1fb186cd-2d50-43e5-8838-698b7c530f71",
   "metadata": {},
   "outputs": [
    {
     "data": {
      "image/png": "[encoded data removed]",
      "text/plain": [
       "<Figure size 1600x600 with 1 Axes>"
      ]
     },
     "metadata": {},
     "output_type": "display_data"
    }
   ],
   "source": [
    "import matplotlib.pyplot as plt\n",
    "import numpy as np\n",
    "\n",
    "years = da.year.values\n",
    "\n",
    "percentage_of_lower_forecast_predictions = Yearly_percentage_Below\n",
    "percentage_of_middle_forecast_predictions = Yearly_percentage_Between\n",
    "percentage_of_above_forecast_predictions = Yearly_percentage_Above\n",
    "\n",
    "# Observed category values: 1=lower, 2=middle, 3=above\n",
    "observed_category = RFA_Catagories\n",
    "\n",
    "# Set bar width\n",
    "bar_width = 0.25\n",
    "\n",
    "# Set positions for each bar group\n",
    "r1 = np.arange(len(years))\n",
    "r2 = [x + bar_width for x in r1]\n",
    "r3 = [x + bar_width for x in r2]\n",
    "\n",
    "# Create the plot\n",
    "plt.figure(figsize=(16, 6))\n",
    "\n",
    "# Plot the bars\n",
    "plt.bar(r1, percentage_of_lower_forecast_predictions, color='red', width=bar_width, label='P(blw)')\n",
    "plt.bar(r2, percentage_of_middle_forecast_predictions, color='green', width=bar_width, label='P(avg)')\n",
    "plt.bar(r3, percentage_of_above_forecast_predictions, color='blue', width=bar_width, label='P(abv)')\n",
    "\n",
    "# Plot the observed category as outlined black squares on top of the corresponding bars\n",
    "obs_x = []\n",
    "obs_y = []\n",
    "\n",
    "for i, cat in enumerate(observed_category):\n",
    "    if cat == 1:\n",
    "        obs_x.append(r1[i] + bar_width / 2)\n",
    "        obs_y.append(percentage_of_lower_forecast_predictions[i])\n",
    "    elif cat == 2:\n",
    "        obs_x.append(r2[i] + bar_width / 2)\n",
    "        obs_y.append(percentage_of_middle_forecast_predictions[i])\n",
    "    elif cat == 3:\n",
    "        obs_x.append(r3[i] + bar_width / 2)\n",
    "        obs_y.append(percentage_of_above_forecast_predictions[i])\n",
    "\n",
    "plt.scatter(obs_x, obs_y, facecolors='none', edgecolors='black', marker='s', label='Obs')\n",
    "\n",
    "# Set x-axis labels\n",
    "plt.xticks([r + bar_width for r in range(len(years))], years, rotation=90)\n",
    "\n",
    "# Add labels and legend\n",
    "plt.xlabel('Year')\n",
    "plt.ylabel('Forecast category probability (%)')\n",
    "plt.title(\"Forecast category probability and observed category:  \\nECMWF_OND_St:Aug /  CHIRPS_Obs_OND / Reg. Kenya: 6N-5S; 33-42E \")\n",
    "plt.legend()\n",
    "\n",
    "# Layout adjustment\n",
    "plt.tight_layout()\n",
    "plt.show()\n"
   ]
  },
  {
   "cell_type": "markdown",
   "id": "37100fc3-4dfb-4bd7-8b6c-d19599bcd9b8",
   "metadata": {},
   "source": [
    "# You have now finished EX 5; Please refer to the powerpoint on what to do next. \n",
    "## Copy the image of the plot into the powerpoint "
   ]
  },
  {
   "cell_type": "code",
   "execution_count": null,
   "id": "79438221-4dde-4d49-a4c4-c293bd584fee",
   "metadata": {},
   "outputs": [],
   "source": []
  }
 ],
 "metadata": {
  "kernelspec": {
   "display_name": "Python 3 (ipykernel)",
   "language": "python",
   "name": "python3"
  },
  "language_info": {
   "codemirror_mode": {
    "name": "ipython",
    "version": 3
   },
   "file_extension": ".py",
   "mimetype": "text/x-python",
   "name": "python",
   "nbconvert_exporter": "python",
   "pygments_lexer": "ipython3",
   "version": "3.12.10"
  }
 },
 "nbformat": 4,
 "nbformat_minor": 5
}
