{
 "cells": [
  {
   "cell_type": "markdown",
   "id": "224381cf-da0b-432c-8a9a-0958298978da",
   "metadata": {},
   "source": [
    "# DAY 2: Models - Exercise 4.\n",
    "RECAP: <br>\n",
    "1. In Ex-1 We used OBS data to decide whether rainfall was higher or lower than average and assigned it a category.\n",
    "2. in Ex-2 we used hindcasts to compare a old forecasts to an observed rainfall.\n",
    "3. in Ex-3 we looked at how ensembles produce a small range that can when averaged can be better than a single members forecast. \n",
    "In this exercise we will be: <br>\n",
    "1. Accounting for bias in forecasts by removing it to improve the overall forecast.<br>\n",
    "\n",
    "The data for this exercise is below - this is the same data as Ex-2 and Ex-3 <br>\n",
    "A forecasted amount of rainfall is given for each year and the months OND. "
   ]
  },
  {
   "cell_type": "markdown",
   "id": "6ece8c49-c258-4b33-8b6d-97ce0f82969d",
   "metadata": {},
   "source": [
    "**Remember to change the name to your location of intrest.  Example: da = location('Kenya_Hindcast')**"
   ]
  },
  {
   "cell_type": "code",
   "execution_count": null,
   "id": "6dd3b314-628b-4b71-a198-e1f8e78a6f22",
   "metadata": {},
   "outputs": [],
   "source": [
    "import numpy as np\n",
    "import xarray as xr\n",
    "from Data import location\n",
    "da = location('Kenya_Hindcast')\n",
    "obs = location('Kenya_Obs_Chirps')"
   ]
  },
  {
   "cell_type": "markdown",
   "id": "252d8aae-377d-4e4f-9b24-d8c2521e1b64",
   "metadata": {},
   "source": [
    "## Climate Mean\n",
    "In Ex-2 we calculated the climate mean (the mean over the whole data set). <br>\n",
    "We will repeat that here for clarity."
   ]
  },
  {
   "cell_type": "code",
   "execution_count": null,
   "id": "8becfced-0ed5-4587-a825-3195b74a506a",
   "metadata": {},
   "outputs": [],
   "source": [
    "ECMWF_Climate_Mean =  da.mean().item()\n",
    "print(\"Climate_Mean = \",ECMWF_Climate_Mean, \"mm/day\")"
   ]
  },
  {
   "cell_type": "markdown",
   "id": "4442a801-c06b-4c48-8123-cbb21fabcb7d",
   "metadata": {},
   "source": [
    "## Bias Correction\n",
    "Bias is where the forecast is systematically forecasting too high or too low.<br> \n",
    "To complete bias correction we need to subtract the climate mean from all the values in the dataset. "
   ]
  },
  {
   "cell_type": "code",
   "execution_count": null,
   "id": "64199c86-45b2-47c3-86e1-94f4a56fe946",
   "metadata": {},
   "outputs": [],
   "source": [
    "Bias_corrected = da - ECMWF_Climate_Mean\n",
    "#This cell will have no output"
   ]
  },
  {
   "cell_type": "markdown",
   "id": "f9dbfa8b-b7d4-42ca-a14f-648d86bf07a9",
   "metadata": {},
   "source": [
    "To check thats worked; manually work out what the first years, first members values will be after subtracting the mean. <br>\n",
    "**To help the next cell will tell you what the mean is as well as the first year, first members value is before subtraction**"
   ]
  },
  {
   "cell_type": "code",
   "execution_count": null,
   "id": "1b8ef323-f442-401a-8397-e2d67941934f",
   "metadata": {},
   "outputs": [],
   "source": [
    "print(\"The mean is:\", ECMWF_Climate_Mean)\n",
    "print(\"The first year, first member forecast prediction is:\", da.isel(year=0, member=0).item(), \"mm/day\")"
   ]
  },
  {
   "cell_type": "markdown",
   "id": "306dbf15-34d5-40f9-b0af-883b10ba32a7",
   "metadata": {},
   "source": [
    "**You're value should match the value in the next cell if the Bias Correction worked!**"
   ]
  },
  {
   "cell_type": "code",
   "execution_count": null,
   "id": "6df3875e-3e57-43ea-bb9c-8e4ce386ad46",
   "metadata": {},
   "outputs": [],
   "source": [
    "print(Bias_corrected.isel(year=0, member=0).item())"
   ]
  },
  {
   "cell_type": "markdown",
   "id": "55661d94-f631-43c7-93b6-27b34598812a",
   "metadata": {},
   "source": [
    "So we now have a dataset that is Bias corrected<br>\n",
    "This gives us the anomaly predicted by the forecast. <br>\n",
    "This is the same principle as how we calculated the anomaly for the observed rainfall in Ex-1"
   ]
  },
  {
   "cell_type": "markdown",
   "id": "61d99c94-4cdc-4510-a7dd-71ecf47761fe",
   "metadata": {},
   "source": [
    "## Observed anomaly\n",
    "We will now recall the observed anomaly values as we calculated in Ex-1 <br>\n",
    "Input Climate_Mean in the same location as EX-1\n"
   ]
  },
  {
   "cell_type": "markdown",
   "id": "1c0f765d-5ba2-49b7-af71-9618282b0830",
   "metadata": {},
   "source": [
    "<details>\n",
    "  <summary>Click for solution!</summary>\n",
    "    \n",
    "X = Climate_Mean\n",
    "</details>"
   ]
  },
  {
   "cell_type": "code",
   "execution_count": null,
   "id": "ac21eecb-dae3-4804-b132-fa1abc4a8362",
   "metadata": {},
   "outputs": [],
   "source": [
    "Climate_Mean = np.mean(obs)\n",
    "X = \n",
    "Obs_Anom = [item - X for item in obs]\n",
    "print(Obs_Anom)\n"
   ]
  },
  {
   "cell_type": "markdown",
   "id": "68fa73b8-b50a-4462-8bf7-e380f03cf49c",
   "metadata": {},
   "source": [
    "## Repeating Ideas\n",
    "We will now do to the Bias corrected data set what we did in Ex-3. <br>\n",
    "For recap this will:<br>\n",
    "1. Calculate the minimum and maximum values\n",
    "2. Calculate the upper and lower quantiles\n",
    "3. Calculate the Mean for each year<br>\n",
    "\n",
    "To save time this has been done for you, just run the cell below. "
   ]
  },
  {
   "cell_type": "code",
   "execution_count": null,
   "id": "2d3e64b8-28ff-460a-9eff-2b0831952a07",
   "metadata": {},
   "outputs": [],
   "source": [
    "#First we create an empty array to store the data in\n",
    "BC_Yearly_Forecast_mean = []\n",
    "BC_Yearly_Forecast_min = []\n",
    "BC_Yearly_Forecast_max = []\n",
    "BC_Yearly_Forecast_LQ = []\n",
    "BC_Yearly_Forecast_UQ = []\n",
    "\n",
    "\n",
    "#Then we need to select for each year all the values accosiated with it\n",
    "for year in Bias_corrected.year.values:\n",
    "    data = Bias_corrected.sel(year=year)\n",
    "    #Now we can repeat the EX-2 needed items\n",
    "    mean = data.mean().item()\n",
    "    Max = data.max().item()\n",
    "    Min = data.min().item()\n",
    "    LQ = np.percentile(data, 25.00, method = 'closest_observation')\n",
    "    UQ = np.percentile(data, 75.00, method = 'closest_observation')\n",
    "    #Now we can store them into the list\n",
    "    BC_Yearly_Forecast_mean.append(mean)\n",
    "    BC_Yearly_Forecast_min.append(Min)\n",
    "    BC_Yearly_Forecast_max.append(Max)\n",
    "    BC_Yearly_Forecast_LQ.append(LQ)\n",
    "    BC_Yearly_Forecast_UQ.append(UQ)"
   ]
  },
  {
   "cell_type": "markdown",
   "id": "4d82a51a-a1d8-40db-8d01-cd7789d8f2f3",
   "metadata": {},
   "source": [
    "## Plotting\n",
    "We will now plot the bias corrected results the same as we did in Ex-3"
   ]
  },
  {
   "cell_type": "code",
   "execution_count": null,
   "id": "afb70bc3-921d-486d-ab5f-117fad65b1f7",
   "metadata": {
    "editable": true,
    "slideshow": {
     "slide_type": ""
    },
    "tags": []
   },
   "outputs": [],
   "source": [
    "import matplotlib.pyplot as plt\n",
    "import numpy as np\n",
    "\n",
    "\n",
    "years = Bias_corrected.year.values\n",
    "observed = Obs_Anom\n",
    "ensemble_mean = BC_Yearly_Forecast_mean\n",
    "min_forecast = BC_Yearly_Forecast_min\n",
    "max_forecast = BC_Yearly_Forecast_max\n",
    "lower_quartile = BC_Yearly_Forecast_LQ\n",
    "upper_quartile = BC_Yearly_Forecast_UQ\n",
    "\n",
    "# Create the plot\n",
    "fig, ax = plt.subplots(figsize=(12, 6))\n",
    "\n",
    "# Plot box plots manually using quartiles and whiskers\n",
    "for i, year in enumerate(years):\n",
    "    # Draw the box (IQR) in grey\n",
    "    ax.add_patch(plt.Rectangle((year - 0.3, lower_quartile[i]), 0.6, upper_quartile[i] - lower_quartile[i],\n",
    "                               edgecolor='black', facecolor='lightgrey'))\n",
    "    # Draw the whiskers (range)\n",
    "    ax.plot([year, year], [min_forecast[i], max_forecast[i]], color='black')\n",
    "    # Draw the ensemble mean as a black diamond (mean value)\n",
    "    ax.plot(year, ensemble_mean[i], marker='D', color='black', label='Ensemble Mean Anom' if i == 0 else \"\")\n",
    "    # Draw the observed value as a black circle (Obs_rain)\n",
    "    ax.plot(year, observed[i], marker='o', color='red', label='Observed Anom' if i == 0 else \"\")\n",
    "\n",
    "\n",
    "ax.set_xticks(years)\n",
    "ax.set_xticklabels(years, rotation=45)\n",
    "ax.set_axisbelow(True)\n",
    "ax.yaxis.grid(color='gray', linestyle='dashed')\n",
    "ax.set_ylabel('mm/day')\n",
    "ax.set_title('Forecast (ensemble spread) and observed rainfall anomalies: \\n ECMWF_OND_St:Aug /  CHIRPS_Obs_OND ' )\n",
    "ax.set_xlim([1992.5, 2017.5])\n",
    "#~ax.set_ylim([-2, 4])\n",
    "ax.legend()\n",
    "\n",
    "plt.tight_layout()\n",
    "plt.show()\n"
   ]
  },
  {
   "cell_type": "markdown",
   "id": "87ba4344-56d9-4490-bead-9a1f306f633b",
   "metadata": {},
   "source": [
    "## Capture Rate\n",
    "We now can work out how many of the observed rainfall anomalies fit into the forecasted anomalies range for each year.<br>\n",
    "This is the capture rate.<br>\n",
    "<br>\n",
    "This can be manually counted on this graph above.<br>\n",
    "But in overwhelming data sets it must be auto-calculated."
   ]
  },
  {
   "cell_type": "code",
   "execution_count": null,
   "id": "2a6df283-0c16-4bca-8aa0-d77d2c34a2aa",
   "metadata": {},
   "outputs": [],
   "source": [
    "#This equation below converts the Array to be able to be used in numpy function \">\"\n",
    "Obs_A = np.array(Obs_Anom)\n",
    "\n",
    "\n",
    "# To know the capture rate we must find out if OBS anom falls between the forecasted Min and Max values for that year\n",
    "# To do this we will assign it a 2 value if it falls outside and a 1 value if it falls within the boundary.\n",
    "Obs_A[Obs_A>BC_Yearly_Forecast_max]= 2\n",
    "Obs_A[Obs_A<BC_Yearly_Forecast_min]= 2\n",
    "Obs_A[(Obs_A<BC_Yearly_Forecast_max)&(Obs_A>BC_Yearly_Forecast_min)]= 1\n",
    "Obs_A_Catagories = Obs_A\n",
    "\n",
    "print(\"This is the Catagories each RNA value falls into:\",Obs_A_Catagories)"
   ]
  },
  {
   "cell_type": "markdown",
   "id": "d08b08fa-29c4-4da7-90fa-906e5b79fa3c",
   "metadata": {},
   "source": [
    "we can now count how many 1's there are <br>\n",
    "Each 1 will be a 'hit' \n",
    "\n"
   ]
  },
  {
   "cell_type": "code",
   "execution_count": null,
   "id": "3ee91282-c431-42da-ae9f-dc2e1eb15771",
   "metadata": {},
   "outputs": [],
   "source": [
    "\n",
    "count = np.count_nonzero(Obs_A_Catagories == 1)\n",
    "print(\"In this data there are\", count, \"out of\", da['year'].size, \"hits\")\n"
   ]
  },
  {
   "cell_type": "markdown",
   "id": "c2c504e1-f1c8-421f-813d-bc1b3cfbf2cb",
   "metadata": {},
   "source": [
    "# You have now finished EX 4; Please refer to the powerpoint on what to do next. \n",
    "## Copy the image of the plot into the powerpoint "
   ]
  }
 ],
 "metadata": {
  "kernelspec": {
   "display_name": "Python 3 (ipykernel)",
   "language": "python",
   "name": "python3"
  },
  "language_info": {
   "codemirror_mode": {
    "name": "ipython",
    "version": 3
   },
   "file_extension": ".py",
   "mimetype": "text/x-python",
   "name": "python",
   "nbconvert_exporter": "python",
   "pygments_lexer": "ipython3",
   "version": "3.12.10"
  }
 },
 "nbformat": 4,
 "nbformat_minor": 5
}
