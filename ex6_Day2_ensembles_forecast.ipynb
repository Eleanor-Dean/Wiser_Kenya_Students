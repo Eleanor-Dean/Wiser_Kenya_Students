{
 "cells": [
  {
   "cell_type": "markdown",
   "id": "34266cd4-4b82-4fd8-a030-84608794c194",
   "metadata": {},
   "source": [
    "# DAY 2: Models - Exercise 6.\n",
    "RECAP: <br>\n",
    "1. In Ex-1 We used OBS data to decide whether rainfall was higher or lower than average and assigned it a category.\n",
    "2. in Ex-2 we used hindcasts to compare old forecasts to an observed rainfall of the same period.\n",
    "3. in Ex-3 we looked at how ensembles produce a small range that can when averaged can be better than a single members forecast.\n",
    "4. in Ex-4 we looked at how ensembles can be bias corrected.\n",
    "5. in Ex-5 we looked at sorting members via predicted probabilities  into three tercile categories.<br>\n",
    "In this exercise we will be: <br>\n",
    "1. Constructing a real time forecast using forecast and hind-cast data.<br>\n",
    "\n",
    "The data for this exercise is below, we are now looking at Kenya specifically.<br>\n",
    "the start data is the same data as Ex-2, Ex-3 and Ex-4<br>\n",
    "A forecasted amount of rainfall is given for each year and the months OND. <br>\n",
    "The second data is going to act as the real-time data. It is 2023 ensemble forecast. "
   ]
  },
  {
   "cell_type": "code",
   "execution_count": null,
   "id": "aca04514-2531-416d-bf0f-3a63c6c0b151",
   "metadata": {
    "editable": true,
    "slideshow": {
     "slide_type": ""
    },
    "tags": []
   },
   "outputs": [],
   "source": [
    "import numpy as np\n",
    "import xarray as xr\n",
    "from Data import location\n",
    "da = location('Kenya_Hindcast')"
   ]
  },
  {
   "cell_type": "code",
   "execution_count": null,
   "id": "32d128f2-15e8-4804-8d70-b7109943f366",
   "metadata": {
    "editable": true,
    "slideshow": {
     "slide_type": ""
    },
    "tags": []
   },
   "outputs": [],
   "source": [
    "RFA_obs = ([1.52,2.93,1.95,1.51,5.56,1.33,2.04,2.34,1.99,2.95,1.90,2.40,1.15,4.31,1.83,1.98,2.65,1.55,3.86,2.72,2.25,2.31,3.13,1.70])\n",
    "Obs_Anom =[-0.8908333333333331, 0.519166666666667, -0.4608333333333332, -0.9008333333333332, 3.1491666666666664, -1.080833333333333, \n",
    "           -0.3708333333333331, -0.0708333333333333, -0.42083333333333317, 0.539166666666667, -0.5108333333333333, -0.01083333333333325, \n",
    "           -1.2608333333333333, 1.8991666666666664, -0.5808333333333331, -0.4308333333333332, 0.23916666666666675, -0.8608333333333331, \n",
    "           1.4491666666666667, 0.30916666666666703, -0.16083333333333316, -0.10083333333333311, 0.7191666666666667, -0.7108333333333332]"
   ]
  },
  {
   "cell_type": "markdown",
   "id": "5cf2b6ba-68ac-4e9d-a355-6e8f62678f44",
   "metadata": {
    "editable": true,
    "slideshow": {
     "slide_type": ""
    },
    "tags": []
   },
   "source": [
    "Finally, the data for 2023. "
   ]
  },
  {
   "cell_type": "code",
   "execution_count": null,
   "id": "ce1a44df-6d57-416a-86aa-8b5be33de62b",
   "metadata": {
    "editable": true,
    "slideshow": {
     "slide_type": ""
    },
    "tags": []
   },
   "outputs": [],
   "source": [
    "Ens_Mem = [f\"Member {i}\" for i in range(1, 52)]\n",
    "\n",
    "data_em = [3.41,3.65,4.10,4.45,4.48,3.48,4.29,5.01,4.81,4.40,3.08,2.68,4.28,3.25,4.13,4.31,3.25,3.09,3.96,5.39,5.95,4.05,\n",
    "           3.33,3.18,5.18,4.44,2.89,2.82,3.84,3.08,2.52,3.07,4.91,3.96,3.90,3.91,3.18,2.53,3.03,2.61,2.27,2.92,5.20,3.77,\n",
    "           3.26,3.81,2.67,2.96,5.55,4.50,3.57]\n",
    "da_FC = xr.DataArray(data_em, coords={\"member\": Ens_Mem}, dims=[\"member\"])\n",
    "print(\"In example if we take the forecast year (2023), and the member number 2, the rainfall predicted of OND was 3.65 mm/day\")\n",
    "print(\"Rainfall for 2023, Member 2:\", da_FC.sel(member=\"Member 2\").item(), \"mm/day\")"
   ]
  },
  {
   "cell_type": "markdown",
   "id": "a6ba3101-53fa-4e92-bb8b-93bdaee6edd2",
   "metadata": {
    "editable": true,
    "slideshow": {
     "slide_type": ""
    },
    "tags": []
   },
   "source": [
    "**The cell below now repeats everything we have done in the previous exercises in one go.**<br>\n",
    "Specfically, This is all the work from Ex-2 to Ex-5<br>\n",
    "Look to see what you remember."
   ]
  },
  {
   "cell_type": "code",
   "execution_count": null,
   "id": "c9f94866-e343-4113-9707-20c89e240120",
   "metadata": {
    "editable": true,
    "slideshow": {
     "slide_type": ""
    },
    "tags": []
   },
   "outputs": [],
   "source": [
    "#This is from EX-5\n",
    "RFA_upper = np.percentile(da, 66.66666)\n",
    "RFA_lower = np.percentile(da, 33.33333)\n",
    "\n",
    "\n",
    "Yearly_Forecast_member_below = []\n",
    "Yearly_Forecast_member_above= []\n",
    "Yearly_Forecast_member_between = []\n",
    "\n",
    "\n",
    "#now we select for each member\n",
    "for i in range(da.sizes['year']):\n",
    "         data = da.isel(year=i)\n",
    "         cat_0_mask = data < RFA_lower\n",
    "         Yearly_Forecast_member_below.append(cat_0_mask)\n",
    "         cat_1_mask = data > RFA_upper\n",
    "         Yearly_Forecast_member_above.append(cat_1_mask)\n",
    "         cat_2_mask = (data >= 2.22) & (data <= 2.98)\n",
    "         Yearly_Forecast_member_between.append(cat_2_mask)\n",
    "  \n",
    " #Now we will join this back into one single list\n",
    "Yearly_Forecast_below= xr.concat(Yearly_Forecast_member_below, dim='year')\n",
    "Yearly_Forecast_above= xr.concat(Yearly_Forecast_member_above, dim='year')\n",
    "Yearly_Forecast_between= xr.concat(Yearly_Forecast_member_between, dim='year')\n",
    "\n",
    "Yearly_Counts_Below = Yearly_Forecast_below.sum(dim=\"member\")\n",
    "Yearly_Counts_Above = Yearly_Forecast_above.sum(dim=\"member\")\n",
    "Yearly_Counts_Between = Yearly_Forecast_between.sum(dim=\"member\")\n",
    "\n",
    "#Again we create an empty array. \n",
    "Yearly_percentage_Below = []\n",
    "Yearly_percentage_Above = []\n",
    "Yearly_percentage_Between = []\n",
    "\n",
    "# We select for each individual year\n",
    "for i in range(Yearly_Counts_Below.sizes['year']):\n",
    "    #We do the percentage calulcation\n",
    "    percentage = (Yearly_Counts_Below.isel(year=i).item() / da.member.size) *100\n",
    "    Yearly_percentage_Below.append(percentage)\n",
    "    percentage = (Yearly_Counts_Above.isel(year=i).item() / da.member.size) *100\n",
    "    Yearly_percentage_Above.append(percentage)\n",
    "    percentage = (Yearly_Counts_Between.isel(year=i).item() / da.member.size) *100\n",
    "    Yearly_percentage_Between.append(percentage)\n",
    "   \n",
    "RFA_upper_obs = np.percentile(RFA_obs, 66.66666)\n",
    "RFA_lower_obs = np.percentile(RFA_obs, 33.33333)\n",
    "\n",
    "RFANP = np.array(RFA_obs)\n",
    "\n",
    "# Now we will see if values in the array are greater than RFA_upper (2.48)\n",
    "# If they are they will be turned into a '3'\n",
    "RFANP[RFANP>RFA_upper_obs]= 3\n",
    "\n",
    "#We now repeat this for RFA lower and RFA_middle\n",
    "RFANP[RFANP<RFA_lower_obs]= 1\n",
    "RFANP[(RFANP<RFA_upper_obs)&(RFANP>RFA_lower_obs)]= 2\n",
    "\n",
    "RFA_Catagories = RFANP \n",
    "\n",
    "#This is from EX-4\n",
    "\n",
    "ECMWF_Climate_Mean =  da.mean().item()\n",
    "Bias_corrected = da - ECMWF_Climate_Mean\n",
    "#First we create an empty array to store the data in\n",
    "BC_Yearly_Forecast_mean = []\n",
    "BC_Yearly_Forecast_min = []\n",
    "BC_Yearly_Forecast_max = []\n",
    "BC_Yearly_Forecast_LQ = []\n",
    "BC_Yearly_Forecast_UQ = []\n",
    "\n",
    "\n",
    "#Then we need to select for each year all the values accosiated with it\n",
    "for year in Bias_corrected.year.values:\n",
    "    data = Bias_corrected.sel(year=year)\n",
    "    #Now we can repeat the EX-2 needed items\n",
    "    mean = data.mean().item()\n",
    "    Max = data.max().item()\n",
    "    Min = data.min().item()\n",
    "    LQ = np.percentile(data, 25.00, method = 'closest_observation')\n",
    "    UQ = np.percentile(data, 75.00, method = 'closest_observation')\n",
    "    #Now we can store them into the list\n",
    "    BC_Yearly_Forecast_mean.append(mean)\n",
    "    BC_Yearly_Forecast_min.append(Min)\n",
    "    BC_Yearly_Forecast_max.append(Max)\n",
    "    BC_Yearly_Forecast_LQ.append(LQ)\n",
    "    BC_Yearly_Forecast_UQ.append(UQ)\n",
    "    \n",
    "Obs_A = np.array(Obs_Anom)\n",
    "\n",
    "Obs_A[Obs_A>BC_Yearly_Forecast_max]= 2\n",
    "Obs_A[Obs_A<BC_Yearly_Forecast_min]= 2\n",
    "Obs_A[(Obs_A<BC_Yearly_Forecast_max)&(Obs_A>BC_Yearly_Forecast_min)]= 1\n",
    "Obs_A_Catagories = Obs_A\n",
    "\n",
    "count = np.count_nonzero(Obs_A_Catagories == 1)\n",
    "\n",
    "#This is from Ex-3\n",
    "RF_upper_quantile = np.percentile(da, 75.00)\n",
    "RF_lower_quantile = np.percentile(da, 25.00)\n",
    "\n",
    "#First we create an empty array to store the data in\n",
    "Yearly_Forecast_LQ = []\n",
    "Yearly_Forecast_UQ = []\n",
    "\n",
    "#Then we need to select for each year all the values accosiated with it\n",
    "for year in da.year.values:\n",
    "    data = da.sel(year=year)\n",
    "    \n",
    "    #now we can use the functions as above to return the yearly quantiles\n",
    "    RF_lower_quantile = np.percentile(data, 25.00, method = 'closest_observation')\n",
    "    RF_upper_quantile = np.percentile(data, 75.00, method = 'closest_observation')\n",
    "    \n",
    "    #Now we can store them into the list\n",
    "    Yearly_Forecast_UQ.append(RF_upper_quantile)\n",
    "    Yearly_Forecast_LQ.append(RF_lower_quantile)\n",
    "\n",
    "    #Yearly_Forecast_LQ.append( ) -edit\n",
    "    #Yearly_Forecast_UQ.append( ) -edit\n",
    "\n",
    "#Finally we round the values in the list for easy readability \n",
    "Yearly_Forecast_LQ = np.round(Yearly_Forecast_LQ,3)\n",
    "Yearly_Forecast_UQ = np.round(Yearly_Forecast_UQ,2)\n",
    "\n",
    "#This is from Ex-2\n",
    "\n",
    "#First we create an empty array to store the data in\n",
    "Yearly_Forecast_mean = []\n",
    "\n",
    "#Then we need to select for each year all the values accosiated with it\n",
    "for year in da.year.values:\n",
    "    data = da.sel(year=year)\n",
    "    #now we can use the function mean to return the yearly mean across the members \n",
    "    mean = data.mean().item()\n",
    "    #Now we can store them into the list\n",
    "    Yearly_Forecast_mean.append(mean)\n",
    "    #print(f\"{year}: {round(mean, 2)}\")\n",
    "\n",
    "#Finally we round the values in the list for easy readability \n",
    "Yearly_Forecast_mean = np.round(Yearly_Forecast_mean,2)\n",
    "\n",
    "#First we create an empty array to store the data in\n",
    "Yearly_Forecast_Min = []\n",
    "Yearly_Forecast_Max = []\n",
    "\n",
    "#Then we need to select for each year all the values accosiated with it\n",
    "for year in da.year.values:\n",
    "    data = da.sel(year=year)\n",
    "    \n",
    "    #now we can use the function min and max to return the yearly min and max across the members \n",
    "    Min = data.min().item()\n",
    "    Max = data.max().item()\n",
    "    \n",
    "    #Now we can store them into the list\n",
    "    Yearly_Forecast_Min.append(Min)\n",
    "    Yearly_Forecast_Max.append(Max)\n",
    "\n"
   ]
  },
  {
   "cell_type": "markdown",
   "id": "d6d295ba-5f42-4113-b199-278d690a2b26",
   "metadata": {
    "editable": true,
    "slideshow": {
     "slide_type": ""
    },
    "tags": []
   },
   "source": [
    "## Forecast data\n",
    "We will now look at the forecast data set.<br>\n",
    "The first step will be to look at what tercile catagory they fall into\n"
   ]
  },
  {
   "cell_type": "code",
   "execution_count": null,
   "id": "c6bf2b6d-ac78-47fd-a3f8-4522a2fe17e8",
   "metadata": {
    "editable": true,
    "slideshow": {
     "slide_type": ""
    },
    "tags": []
   },
   "outputs": [],
   "source": [
    "print(\"These are the upper and lower terciles that we calculates before: Upper =\",RFA_upper,\"Lower =\", RFA_lower)\n"
   ]
  },
  {
   "cell_type": "markdown",
   "id": "a3016281-c7af-4d9e-8c5c-3e551d036748",
   "metadata": {
    "editable": true,
    "slideshow": {
     "slide_type": ""
    },
    "tags": []
   },
   "source": [
    "This process now is essentially what we did before but without selection for the year"
   ]
  },
  {
   "cell_type": "code",
   "execution_count": null,
   "id": "c4c5bb33-37b4-4f22-a1ea-b8083853b6e2",
   "metadata": {
    "editable": true,
    "slideshow": {
     "slide_type": ""
    },
    "tags": []
   },
   "outputs": [],
   "source": [
    "#We start with empty lists\n",
    "Yearly_Forecast_member_below = []\n",
    "Yearly_Forecast_member_above= []\n",
    "Yearly_Forecast_member_between = []\n",
    "\n",
    "#We compare if the values are above or below the tercile catagories laid out by the hindcasts\n",
    "cat_0_mask = da_FC < RFA_lower\n",
    "Yearly_Forecast_member_below.append(cat_0_mask)\n",
    "cat_1_mask = da_FC > RFA_upper\n",
    "Yearly_Forecast_member_above.append(cat_1_mask)\n",
    "cat_2_mask = (da_FC >= 2.22) & (da_FC <= 2.98)\n",
    "Yearly_Forecast_member_between.append(cat_2_mask)\n",
    "\n",
    "#This just turns them into arrays for the np functions to work\n",
    "Yearly_Forecast_member_below = np.array(Yearly_Forecast_member_below)\n",
    "Yearly_Forecast_member_above = np.array(Yearly_Forecast_member_above)\n",
    "Yearly_Forecast_member_between = np.array(Yearly_Forecast_member_between)\n",
    "\n",
    "#This counts how many Trues there are just like before\n",
    "Yearly_Counts_Below_FC = Yearly_Forecast_member_below.sum()\n",
    "Yearly_Counts_Above_FC = Yearly_Forecast_member_above.sum()\n",
    "Yearly_Counts_Between_FC = Yearly_Forecast_member_between.sum()\n",
    "\n",
    "#Now we can find out what these values are\n",
    "print(\"This is the counts of the FC members in the average (between) catagory:\", Yearly_Counts_Between_FC)\n",
    "print(\"This is the counts of the FC members in the below catagory:\", Yearly_Counts_Below_FC)\n",
    "print(\"This is the counts of the FC members in the above catagory:\", Yearly_Counts_Above_FC)"
   ]
  },
  {
   "cell_type": "markdown",
   "id": "ca4e13bd-a1b9-4533-9d63-0f2aaccc3d59",
   "metadata": {
    "editable": true,
    "slideshow": {
     "slide_type": ""
    },
    "tags": []
   },
   "source": [
    "Now we turn that into probabilities. "
   ]
  },
  {
   "cell_type": "code",
   "execution_count": null,
   "id": "76612094-1f29-4f5f-8cb6-06bcf306224f",
   "metadata": {
    "editable": true,
    "slideshow": {
     "slide_type": ""
    },
    "tags": []
   },
   "outputs": [],
   "source": [
    "percentage_Below = []\n",
    "percentage_Above = []\n",
    "percentage_Between = []\n",
    "\n",
    "percentage_FC = (Yearly_Counts_Below_FC.item() / da_FC.member.size) *100\n",
    "percentage_Below.append(percentage_FC)\n",
    "percentage_FC = (Yearly_Counts_Above_FC.item() / da_FC.member.size) *100\n",
    "percentage_Above.append(percentage_FC)\n",
    "percentage_FC = (Yearly_Counts_Between_FC.item() / da_FC.member.size) *100\n",
    "percentage_Between.append(percentage_FC)\n",
    "\n",
    "print(\"This is the percentage of members in the above average catagory:\", percentage_Above, \"%\")"
   ]
  },
  {
   "cell_type": "markdown",
   "id": "d06e15f2-d43d-4fbb-bb2a-8eb7d03f9bf9",
   "metadata": {
    "editable": true,
    "slideshow": {
     "slide_type": ""
    },
    "tags": []
   },
   "source": [
    "Next we will work out the mean"
   ]
  },
  {
   "cell_type": "code",
   "execution_count": null,
   "id": "0be10363-b37f-47ca-a71e-eb781c67bc76",
   "metadata": {
    "editable": true,
    "slideshow": {
     "slide_type": ""
    },
    "tags": []
   },
   "outputs": [],
   "source": [
    "FC_Mean =  da_FC.mean().item()\n",
    "print(\"This is the mean:\", FC_Mean)"
   ]
  },
  {
   "cell_type": "markdown",
   "id": "8756fb43-77b8-4d39-996f-806bbca4aaee",
   "metadata": {
    "editable": true,
    "slideshow": {
     "slide_type": ""
    },
    "tags": []
   },
   "source": [
    "Next we will work out the forcast mean anomoly"
   ]
  },
  {
   "cell_type": "code",
   "execution_count": null,
   "id": "3a8dc89f-3770-429c-91d7-f8ad2a171b81",
   "metadata": {
    "editable": true,
    "slideshow": {
     "slide_type": ""
    },
    "tags": []
   },
   "outputs": [],
   "source": [
    "FC_Mean_Anom = FC_Mean - ECMWF_Climate_Mean \n",
    "print(\"This is the forecast mean anomoly:\", FC_Mean_Anom)"
   ]
  },
  {
   "cell_type": "markdown",
   "id": "3ae0be83-2e00-488c-a621-039dead31557",
   "metadata": {
    "editable": true,
    "slideshow": {
     "slide_type": ""
    },
    "tags": []
   },
   "source": [
    "Now we can work out the Minimum, Maxiumum, LQ and UQ values. "
   ]
  },
  {
   "cell_type": "code",
   "execution_count": null,
   "id": "f2c2b3f0-10f1-4b1a-bf06-827a086f36bf",
   "metadata": {
    "editable": true,
    "slideshow": {
     "slide_type": ""
    },
    "tags": []
   },
   "outputs": [],
   "source": [
    "BS_FC = da_FC - ECMWF_Climate_Mean\n",
    "#First we create an empty array to store the data in\n",
    "BC_Yearly_Forecast_mean_FC = []\n",
    "BC_Yearly_Forecast_min_FC = []\n",
    "BC_Yearly_Forecast_max_FC = []\n",
    "BC_Yearly_Forecast_LQ_FC = []\n",
    "BC_Yearly_Forecast_UQ_FC = []\n",
    "\n",
    "\n",
    "\n",
    "#Now we can repeat the EX-2 needed items\n",
    "mean_FC = BS_FC.mean().item()\n",
    "Max_FC = BS_FC.max().item()\n",
    "Min_FC = BS_FC.min().item()\n",
    "LQ_FC = np.percentile(BS_FC, 25.00, method = 'closest_observation')\n",
    "UQ_FC = np.percentile(BS_FC, 75.00, method = 'closest_observation')\n",
    "#Now we can store them into the list\n",
    "BC_Yearly_Forecast_mean_FC.append(mean_FC)\n",
    "BC_Yearly_Forecast_min_FC.append(Min_FC)\n",
    "BC_Yearly_Forecast_max_FC.append(Max_FC)\n",
    "BC_Yearly_Forecast_LQ_FC.append(LQ_FC)\n",
    "BC_Yearly_Forecast_UQ_FC.append(UQ_FC)\n",
    "\n",
    "print(BC_Yearly_Forecast_UQ_FC)"
   ]
  },
  {
   "cell_type": "markdown",
   "id": "1ae84486-4676-4878-8639-8ccf4a796ca5",
   "metadata": {
    "editable": true,
    "slideshow": {
     "slide_type": ""
    },
    "tags": []
   },
   "source": [
    "## Plotting \n",
    "We will now plot all the same plots as before with the addition of the forecast\n"
   ]
  },
  {
   "cell_type": "code",
   "execution_count": null,
   "id": "682d3d67-0202-4f0e-8d93-682cfd5881c5",
   "metadata": {
    "editable": true,
    "slideshow": {
     "slide_type": ""
    },
    "tags": []
   },
   "outputs": [],
   "source": [
    "import matplotlib.pyplot as plt\n",
    "\n",
    "# Replace these with your actual data\n",
    "years = list(range(1993, 2017))\n",
    "mean_forecast_rainfall = BC_Yearly_Forecast_mean\n",
    "mean_observed_rainfall = Obs_Anom\n",
    "Forecast_Mean = FC_Mean_Anom\n",
    "year = 2023\n",
    "\n",
    "plt.figure(figsize=(10, 5))\n",
    "\n",
    "# Plot forecast rainfall\n",
    "plt.plot(\n",
    "    years,\n",
    "    mean_forecast_rainfall,\n",
    "    linestyle='-',\n",
    "    marker='d',\n",
    "    color='black',\n",
    "    label='Ensemble Mean'\n",
    ")\n",
    "\n",
    "# Plot observed rainfall\n",
    "plt.plot(\n",
    "    years,\n",
    "    mean_observed_rainfall,\n",
    "    linestyle='-',\n",
    "    marker='s',\n",
    "    color='red',\n",
    "    label='Obs'\n",
    ")\n",
    "\n",
    "plt.plot(\n",
    "    year,\n",
    "    Forecast_Mean,\n",
    "    linestyle='-',\n",
    "    marker='d',\n",
    "    color='black',\n",
    "    label='EMS_Forecast')\n",
    "\n",
    "\n",
    "# Labels and title\n",
    "plt.xlabel('Year')\n",
    "plt.ylabel('mm/day')\n",
    "plt.title(\n",
    "    'Forecast (ensemble mean) and observed rainfall:\\n'\n",
    "    'ECMWF_OND_St:Aug / CHIRPS_Obs_OND / Reg. Kenya: \\n'\n",
    "    '6N-5S;33-42E Bias=0.33/Corr=0.85'\n",
    ")\n",
    "\n",
    "# Legend and grid\n",
    "plt.legend()\n",
    "plt.grid(True)\n",
    "plt.tight_layout()\n",
    "plt.show()\n"
   ]
  },
  {
   "cell_type": "code",
   "execution_count": null,
   "id": "d8573bfd-fb62-4469-8fe9-9cecff7f11b9",
   "metadata": {
    "editable": true,
    "slideshow": {
     "slide_type": ""
    },
    "tags": []
   },
   "outputs": [],
   "source": [
    "# Sample data for demonstration (replace with actual data)\n",
    "years = da.year.values\n",
    "\n",
    "#Observed\n",
    "observed = Obs_Anom\n",
    "#hindcast data\n",
    "ensemble_mean = BC_Yearly_Forecast_mean\n",
    "min_forecast = BC_Yearly_Forecast_min\n",
    "max_forecast = BC_Yearly_Forecast_max\n",
    "lower_quartile = BC_Yearly_Forecast_LQ\n",
    "upper_quartile = BC_Yearly_Forecast_UQ\n",
    "#FC data \n",
    "year_FC = 2023\n",
    "Mean_FC = np.array(BC_Yearly_Forecast_mean_FC)\n",
    "Min_FC = np.array(BC_Yearly_Forecast_min_FC)\n",
    "Max_FC = np.array(BC_Yearly_Forecast_max_FC)\n",
    "LQ_FC = np.array(BC_Yearly_Forecast_LQ_FC)\n",
    "UQ_FC = np.array(BC_Yearly_Forecast_UQ_FC)\n",
    "\n",
    "\n",
    "# Create the plot\n",
    "fig, ax = plt.subplots(figsize=(12, 6))\n",
    "\n",
    "# Plot box plots manually using quartiles and whiskers\n",
    "for i, year in enumerate(years):\n",
    "    # Draw the box (IQR) in grey\n",
    "    ax.add_patch(plt.Rectangle((year - 0.3, lower_quartile[i]), 0.6, upper_quartile[i] - lower_quartile[i],\n",
    "                               edgecolor='black', facecolor='lightgrey'))\n",
    "    # Draw the whiskers (range)\n",
    "    ax.plot([year, year], [min_forecast[i], max_forecast[i]], color='black')\n",
    "    # Draw the ensemble mean as a black diamond (mean value)\n",
    "    ax.plot(year, ensemble_mean[i], marker='D', color='black', label='Ensemble Mean' if i == 0 else \"\")\n",
    "    # Draw the observed value as a black circle (Obs_rain)\n",
    "    ax.plot(year, observed[i], marker='o', color='red', label='Observed' if i == 0 else \"\")\n",
    "\n",
    "#Plot the forecast data\n",
    "ax.add_patch(plt.Rectangle((year_FC - 0.3, LQ_FC[0]), 0.6, UQ_FC[0]- LQ_FC[0],\n",
    "                               edgecolor='black', facecolor='lightgrey'))\n",
    "ax.plot([year_FC, year_FC], [Min_FC[0], Max_FC[0]], color='black')\n",
    "ax.plot(year_FC, Mean_FC[0], marker='D', color='black', label='Ensemble Mean' if i == 0 else \"\")\n",
    "\n",
    "# Customise the plot\n",
    "#x ticks \n",
    "# x ticks including forecast year\n",
    "years_xticks = list(years) + [year_FC]\n",
    "ax.set_xticks(years_xticks)\n",
    "ax.set_xticklabels(years_xticks, rotation=45)\n",
    "ax.set_axisbelow(True)\n",
    "ax.yaxis.grid(color='gray', linestyle='dashed')\n",
    "ax.set_ylabel('mm/day')\n",
    "ax.set_title('Forecast: ensemble mean and spread: ECMWF_OND_St:Aug / Reg. Kenya: 6N-5S; 33-42E')\n",
    "ax.set_xlim([1992.5, 2023.5])\n",
    "ax.set_ylim([-3, 5])\n",
    "ax.legend()\n",
    "\n",
    "plt.tight_layout()\n",
    "plt.show()\n"
   ]
  },
  {
   "cell_type": "code",
   "execution_count": null,
   "id": "152e7457-b458-4d5e-b98b-22d3fd91e95f",
   "metadata": {
    "editable": true,
    "slideshow": {
     "slide_type": ""
    },
    "tags": []
   },
   "outputs": [],
   "source": [
    "import matplotlib.pyplot as plt\n",
    "import numpy as np\n",
    "\n",
    "# Define the years from 1981 to 2016\n",
    "years = da.year.values\n",
    "\n",
    "# Hindcast\n",
    "percentage_of_lower_forecast_predictions = Yearly_percentage_Below\n",
    "percentage_of_middle_forecast_predictions = Yearly_percentage_Between\n",
    "percentage_of_above_forecast_predictions = Yearly_percentage_Above\n",
    "\n",
    "#Forecast\n",
    "fc_below = percentage_Below\n",
    "fc_above = percentage_Above \n",
    "fc_between = percentage_Between\n",
    "\n",
    "# Observed category values: 1=lower, 2=middle, 3=above\n",
    "observed_category = RFA_Catagories\n",
    "\n",
    "# Set bar width\n",
    "bar_width = 0.25\n",
    "\n",
    "# Set positions for each bar group\n",
    "r1 = np.arange(len(years))\n",
    "r2 = r1 + bar_width\n",
    "r3 = r2 + bar_width\n",
    "\n",
    "# Position for 2023 forecast bars\n",
    "r4 = [len(years)]\n",
    "r5 = [r4[0] + bar_width]\n",
    "r6 = [r5[0] + bar_width]\n",
    "\n",
    "\n",
    "# Create the plot\n",
    "plt.figure(figsize=(16, 6))\n",
    "\n",
    "# Plot the bars\n",
    "plt.bar(r1, percentage_of_lower_forecast_predictions, color='red', width=bar_width, label='P(blw)')\n",
    "plt.bar(r2, percentage_of_middle_forecast_predictions, color='green', width=bar_width, label='P(avg)')\n",
    "plt.bar(r3, percentage_of_above_forecast_predictions, color='blue', width=bar_width, label='P(abv)')\n",
    "\n",
    "\n",
    "\n",
    "\n",
    "plt.bar(r4, fc_below, color='red', width=bar_width,)\n",
    "plt.bar(r5, fc_between, color='green', width=bar_width,)\n",
    "plt.bar(r6, fc_above, color='blue', width=bar_width,)\n",
    "\n",
    "\n",
    "\n",
    "# Plot the observed category as outlined black squares on top of the corresponding bars\n",
    "obs_x = []\n",
    "obs_y = []\n",
    "\n",
    "for i, cat in enumerate(observed_category):\n",
    "    if cat == 1:\n",
    "        obs_x.append(r1[i] + bar_width / 2)\n",
    "        obs_y.append(percentage_of_lower_forecast_predictions[i])\n",
    "    elif cat == 2:\n",
    "        obs_x.append(r2[i] + bar_width / 2)\n",
    "        obs_y.append(percentage_of_middle_forecast_predictions[i])\n",
    "    elif cat == 3:\n",
    "        obs_x.append(r3[i] + bar_width / 2)\n",
    "        obs_y.append(percentage_of_above_forecast_predictions[i])\n",
    "\n",
    "plt.scatter(obs_x, obs_y, facecolors='none', edgecolors='black', marker='s', label='Obs')\n",
    "\n",
    "# Set x-axis labels\n",
    "\n",
    "xtick_positions = list(r1) + [r4[0] + bar_width]\n",
    "xtick_labels = list(years) + [2023]\n",
    "plt.xticks(xtick_positions, xtick_labels, rotation=90)\n",
    "\n",
    "\n",
    "\n",
    "# Add labels and legend\n",
    "plt.xlabel('Year')\n",
    "plt.ylabel('Forecast category probability (%)')\n",
    "plt.title(\"Forecast category probability and observed category:  \\nECMWF_OND_St:Aug /  CHIRPS_Obs_OND / Reg. Kenya: 6N-5S; 33-42E \")\n",
    "plt.legend()\n",
    "\n",
    "# Layout adjustment\n",
    "plt.tight_layout()\n",
    "plt.show()\n"
   ]
  }
 ],
 "metadata": {
  "kernelspec": {
   "display_name": "Python 3 (ipykernel)",
   "language": "python",
   "name": "python3"
  },
  "language_info": {
   "codemirror_mode": {
    "name": "ipython",
    "version": 3
   },
   "file_extension": ".py",
   "mimetype": "text/x-python",
   "name": "python",
   "nbconvert_exporter": "python",
   "pygments_lexer": "ipython3",
   "version": "3.12.10"
  }
 },
 "nbformat": 4,
 "nbformat_minor": 5
}
